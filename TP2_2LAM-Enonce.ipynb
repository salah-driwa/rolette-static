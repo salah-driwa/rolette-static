{
 "cells": [
  {
   "cell_type": "markdown",
   "metadata": {},
   "source": [
    "# Simulation du jeux de LIDO simplifié"
   ]
  },
  {
   "cell_type": "markdown",
   "metadata": {},
   "source": [
    "## Principe\n",
    "On considére un jeux de Lido simple:\n",
    "on dispose d'un un seul pion.\n",
    "\n",
    "- Etape 0 :\n",
    "Le pion doit sort de sa prison lorsqu'on obtient un 6.\n",
    "\n",
    "- Etape 1 :\n",
    "Le pion doit atteindre exactement une position cible situé à N pas de distance de sa prison \n",
    "\n",
    "Soit $X_n$ la variable aléatoire qui represente le nombre de coup nécéssaire pour atteindre la positions cible.\n",
    "\n",
    "**Objectif 1** : Simuler le jeux \n",
    "\n",
    "**Objectif 2** : Calculer une estimation de l'éspérance mathématique de $X_n$ en utilisant `python`\n",
    "\n",
    "**Objéctif 3** : Observer la variation de $\\mathbb{E}(X_n)$ en fonction de $n$\n",
    "\n",
    "<img src=\"LIDO.png\">\n"
   ]
  },
  {
   "cell_type": "code",
   "execution_count": 1,
   "metadata": {},
   "outputs": [],
   "source": [
    "# importation du module numpy avec le nom np\n",
    "import numpy as np"
   ]
  },
  {
   "cell_type": "markdown",
   "metadata": {},
   "source": [
    "### Simulation du lancé de dé"
   ]
  },
  {
   "cell_type": "code",
   "execution_count": 2,
   "metadata": {},
   "outputs": [],
   "source": [
    "# fonction nommée Roll sans parametre qui retourne un nombre aleatoire compris entre 1 et 6\n",
    "def Roll():\n",
    "    return int(np.random.choice([1, 2, 3, 4, 5, 6], replace=True))"
   ]
  },
  {
   "cell_type": "code",
   "execution_count": 3,
   "metadata": {},
   "outputs": [
    {
     "data": {
      "text/plain": [
       "1"
      ]
     },
     "execution_count": 3,
     "metadata": {},
     "output_type": "execute_result"
    }
   ],
   "source": [
    "Roll()"
   ]
  },
  {
   "cell_type": "markdown",
   "metadata": {},
   "source": [
    "### Compléter le code et commenter"
   ]
  },
  {
   "cell_type": "code",
   "execution_count": 4,
   "metadata": {
    "scrolled": false
   },
   "outputs": [
    {
     "name": "stdout",
     "output_type": "stream",
     "text": [
      "2 4 0\n",
      "3 3 0\n",
      "4 3 0\n",
      "5 5 0\n",
      "6 2 0\n",
      "7 2 0\n",
      "8 1 0\n",
      "9 4 0\n",
      "10 4 0\n",
      "11 4 0\n",
      "12 4 0\n",
      "13 4 0\n",
      "14 6 1\n",
      "le pion est sortie de la prison parés 14\n",
      "15 5 6\n",
      "16 3 9\n",
      "17 3 12\n",
      "18 1 13\n",
      "19 1 14\n",
      "20 2 16\n",
      "21 2 18\n",
      "22 3 18\n",
      "23 4 18\n",
      "24 4 18\n",
      "25 3 18\n",
      "26 1 19\n",
      "27 6 19\n",
      "28 1 20\n",
      "le jeux est terminé aprés 28 coups\n"
     ]
    }
   ],
   "source": [
    "# POS: la position du pion\n",
    "POS = 0\n",
    "\n",
    "# CIBLE: la position que le pion doit atteindre\n",
    "CIBLE = 20\n",
    "\n",
    "# NCOUP: le nombre de coup\n",
    "NCOUP = 0\n",
    "\n",
    "# temp: contient la valeur retourner par la fonction Roll()\n",
    "temp = Roll()\n",
    "\n",
    "# incrementation du nombre de coup\n",
    "NCOUP += 1\n",
    "\n",
    "# si Roll() retourne la valeur 6, le pion sort de sa prison\n",
    "if temp == 6:\n",
    "    # on affecte la valeur 1 à la variable POS\n",
    "    POS = 1 \n",
    "    \n",
    "    # on affichera sur la console le nombre de coup, la valeur du variable temp et la position du pion\n",
    "    print(NCOUP, temp, POS)\n",
    "\n",
    "# sinon \n",
    "else:    \n",
    "    # on entre dans le boucle while\n",
    "    while temp != 6:\n",
    "        # on incremente le nombre de coup dans chaque iteration\n",
    "        NCOUP += 1\n",
    "        temp = Roll()\n",
    "        \n",
    "        if temp == 6:\n",
    "            # si la valeur de temp est egale à 6, le pion sort de sa prison \n",
    "            # et on affecte la valeur 1 à la variable POS\n",
    "            POS = 1\n",
    "            # on affichera sur la console le nombre de coup, la valeur du variable temp et la position du pion\n",
    "            print(NCOUP, temp, POS)\n",
    "            break \n",
    "\n",
    "        # le nombre de coup, la valeur du variable temp et la position du pion\n",
    "        print(NCOUP, temp, POS)\n",
    "\n",
    "# afficher le message suivant:\n",
    "print(f'le pion est sortie de la prison aparés {NCOUP}')\n",
    "\n",
    "# on entre dans la boucle while\n",
    "while POS < CIBLE:\n",
    "    # dans chaque iteration temp contient la valeur retourner par la fonction Roll()\n",
    "    temp = Roll()\n",
    "    \n",
    "    # on incremente le nombre de coup dans chaque iteration\n",
    "    NCOUP += 1\n",
    "    \n",
    "    # si la valeur de (POS + temp) est superieur à celle du CIBLE\n",
    "    if POS + temp > CIBLE:\n",
    "        # puis, on affiche sur la console le nombre de coup, la valeur du variable temp et la position du pion\n",
    "        print(NCOUP, temp, POS)\n",
    "        pass\n",
    "    \n",
    "    # sinon si la valeur de (POS + temp) égale à celle du CIBLE\n",
    "    elif POS + temp == CIBLE:\n",
    "        # on affiche sur la console le nombre de coup, la valeur du variable temp et la position du pion\n",
    "        print(NCOUP, temp, CIBLE)\n",
    "        \n",
    "        # puis on affecte la valeur de CIBLE au variable POS \n",
    "        POS = CIBLE\n",
    "    \n",
    "    # sinon\n",
    "    else:\n",
    "        # on incremente la valeur du variable POS avec celle du temp\n",
    "        POS += temp\n",
    "        \n",
    "        # puis, on affiche sur la console le nombre de coup, la valeur du variable temp et la position du pion\n",
    "        print(NCOUP, temp, POS)\n",
    "\n",
    "# afficher le message suivant:\n",
    "print(f\"le jeux est terminé aprés {NCOUP} coups\")"
   ]
  },
  {
   "cell_type": "markdown",
   "metadata": {},
   "source": [
    "### Simulation\n",
    "Ecrire une foction `sim` qui simule le jeux et qui prend comme variable le nombre de pas $n$ nécessazire pour atteindre la cible"
   ]
  },
  {
   "cell_type": "code",
   "execution_count": 6,
   "metadata": {},
   "outputs": [],
   "source": [
    "def sim(CIBLE):\n",
    "    POS = 0\n",
    "    NCOUP = 0\n",
    "    temp = Roll()\n",
    "    NCOUP += 1\n",
    "    if temp == 6:\n",
    "        POS = 1 \n",
    "    \n",
    "    else: \n",
    "        while temp != 6:\n",
    "            NCOUP += 1\n",
    "            temp = Roll()\n",
    "            if temp == 6:\n",
    "                POS = 1\n",
    "                break \n",
    "    \n",
    "    while POS<CIBLE:\n",
    "        temp = Roll()\n",
    "        NCOUP += 1\n",
    "        if POS + temp > CIBLE:\n",
    "            pass\n",
    "        \n",
    "        elif POS + temp == CIBLE:\n",
    "            POS = CIBLE\n",
    "        \n",
    "        else:\n",
    "            POS += temp\n",
    "        \n",
    "    return NCOUP"
   ]
  },
  {
   "cell_type": "code",
   "execution_count": 25,
   "metadata": {},
   "outputs": [
    {
     "name": "stdout",
     "output_type": "stream",
     "text": [
      "19\n"
     ]
    }
   ],
   "source": [
    "print(sim(20))"
   ]
  },
  {
   "cell_type": "code",
   "execution_count": 8,
   "metadata": {},
   "outputs": [
    {
     "name": "stdout",
     "output_type": "stream",
     "text": [
      "16.20806\n"
     ]
    }
   ],
   "source": [
    "L = [sim(20) for _ in range(100000)]\n",
    "\n",
    "# moyenne des nombres de coup \n",
    "moy = sum(L) / 100000\n",
    "print(moy)"
   ]
  },
  {
   "cell_type": "code",
   "execution_count": 9,
   "metadata": {},
   "outputs": [],
   "source": [
    "# liste des cibles\n",
    "cibles = [20, 25, 30, 35, 45]\n",
    "\n",
    "# liste des moyennes\n",
    "moyenne = [sum([sim(v) for _ in range(50000)]) / 50000 for v in cibles]"
   ]
  },
  {
   "cell_type": "code",
   "execution_count": 10,
   "metadata": {},
   "outputs": [
    {
     "data": {
      "image/png": "[encoded data removed]",
      "text/plain": [
       "<Figure size 432x288 with 1 Axes>"
      ]
     },
     "metadata": {
      "needs_background": "light"
     },
     "output_type": "display_data"
    }
   ],
   "source": [
    "import matplotlib.pyplot as plt\n",
    "\n",
    "plt.plot(cibles, moyenne, \"ro\")\n",
    "plt.show()"
   ]
  },
  {
   "cell_type": "code",
   "execution_count": 11,
   "metadata": {},
   "outputs": [
    {
     "name": "stdout",
     "output_type": "stream",
     "text": [
      "la valeur de a est 0.2854583783783783 et la valeur de b est 10.502530270270272\n"
     ]
    }
   ],
   "source": [
    "from scipy import stats\n",
    "\n",
    "slope , intercept, r_value, p_value, std_err = stats.linregress(cibles, moyenne)\n",
    "print(f'la valeur de a est {slope} et la valeur de b est {intercept}')"
   ]
  },
  {
   "cell_type": "code",
   "execution_count": 17,
   "metadata": {},
   "outputs": [
    {
     "data": {
      "image/png": "[encoded data removed]",
      "text/plain": [
       "<Figure size 432x288 with 1 Axes>"
      ]
     },
     "metadata": {
      "needs_background": "light"
     },
     "output_type": "display_data"
    }
   ],
   "source": [
    "import matplotlib.pyplot as plt\n",
    "\n",
    "plt.plot(cibles, moyenne, \"ro\")\n",
    "t = np.linspace(20, 45, 1001)\n",
    "y = 0.285 * t + intercept\n",
    "plt.plot(t, y, \"-b\")\n",
    "plt.show()"
   ]
  },
  {
   "cell_type": "markdown",
   "metadata": {},
   "source": [
    "### Simulation de $10^5$  scénario "
   ]
  },
  {
   "cell_type": "code",
   "execution_count": 13,
   "metadata": {},
   "outputs": [],
   "source": [
    "Freq=np.fromiter((sim(20) for i in range(10**5)),dtype=int)"
   ]
  },
  {
   "cell_type": "code",
   "execution_count": 14,
   "metadata": {},
   "outputs": [],
   "source": [
    "ESP=Freq.sum()/10**5"
   ]
  },
  {
   "cell_type": "code",
   "execution_count": 15,
   "metadata": {},
   "outputs": [],
   "source": [
    "x=list(range(10,20))"
   ]
  },
  {
   "cell_type": "code",
   "execution_count": 16,
   "metadata": {},
   "outputs": [
    {
     "ename": "KeyboardInterrupt",
     "evalue": "",
     "output_type": "error",
     "traceback": [
      "\u001b[1;31m---------------------------------------------------------------------------\u001b[0m",
      "\u001b[1;31mKeyboardInterrupt\u001b[0m                         Traceback (most recent call last)",
      "\u001b[1;32md:\\Proba_stat_4_LM-master\\Proba_stat_4_LM-master\\TP2\\TP2_2LAM-Enonce.ipynb Cell 21\u001b[0m in \u001b[0;36m<module>\u001b[1;34m\u001b[0m\n\u001b[1;32m----> <a href='vscode-notebook-cell:/d%3A/Proba_stat_4_LM-master/Proba_stat_4_LM-master/TP2/TP2_2LAM-Enonce.ipynb#X26sZmlsZQ%3D%3D?line=0'>1</a>\u001b[0m y\u001b[39m=\u001b[39m[np\u001b[39m.\u001b[39mfromiter((sim(u) \u001b[39mfor\u001b[39;00m i \u001b[39min\u001b[39;00m \u001b[39mrange\u001b[39m(\u001b[39m5\u001b[39m\u001b[39m*\u001b[39m\u001b[39m10\u001b[39m\u001b[39m*\u001b[39m\u001b[39m*\u001b[39m\u001b[39m4\u001b[39m)),dtype\u001b[39m=\u001b[39m\u001b[39mint\u001b[39m)\u001b[39m.\u001b[39msum()\u001b[39m/\u001b[39m\u001b[39m50000\u001b[39m \u001b[39mfor\u001b[39;00m u \u001b[39min\u001b[39;00m x]\n",
      "\u001b[1;32md:\\Proba_stat_4_LM-master\\Proba_stat_4_LM-master\\TP2\\TP2_2LAM-Enonce.ipynb Cell 21\u001b[0m in \u001b[0;36m<listcomp>\u001b[1;34m(.0)\u001b[0m\n\u001b[1;32m----> <a href='vscode-notebook-cell:/d%3A/Proba_stat_4_LM-master/Proba_stat_4_LM-master/TP2/TP2_2LAM-Enonce.ipynb#X26sZmlsZQ%3D%3D?line=0'>1</a>\u001b[0m y\u001b[39m=\u001b[39m[np\u001b[39m.\u001b[39;49mfromiter((sim(u) \u001b[39mfor\u001b[39;49;00m i \u001b[39min\u001b[39;49;00m \u001b[39mrange\u001b[39;49m(\u001b[39m5\u001b[39;49m\u001b[39m*\u001b[39;49m\u001b[39m10\u001b[39;49m\u001b[39m*\u001b[39;49m\u001b[39m*\u001b[39;49m\u001b[39m4\u001b[39;49m)),dtype\u001b[39m=\u001b[39;49m\u001b[39mint\u001b[39;49m)\u001b[39m.\u001b[39msum()\u001b[39m/\u001b[39m\u001b[39m50000\u001b[39m \u001b[39mfor\u001b[39;00m u \u001b[39min\u001b[39;00m x]\n",
      "\u001b[1;32md:\\Proba_stat_4_LM-master\\Proba_stat_4_LM-master\\TP2\\TP2_2LAM-Enonce.ipynb Cell 21\u001b[0m in \u001b[0;36m<genexpr>\u001b[1;34m(.0)\u001b[0m\n\u001b[1;32m----> <a href='vscode-notebook-cell:/d%3A/Proba_stat_4_LM-master/Proba_stat_4_LM-master/TP2/TP2_2LAM-Enonce.ipynb#X26sZmlsZQ%3D%3D?line=0'>1</a>\u001b[0m y\u001b[39m=\u001b[39m[np\u001b[39m.\u001b[39mfromiter((sim(u) \u001b[39mfor\u001b[39;00m i \u001b[39min\u001b[39;00m \u001b[39mrange\u001b[39m(\u001b[39m5\u001b[39m\u001b[39m*\u001b[39m\u001b[39m10\u001b[39m\u001b[39m*\u001b[39m\u001b[39m*\u001b[39m\u001b[39m4\u001b[39m)),dtype\u001b[39m=\u001b[39m\u001b[39mint\u001b[39m)\u001b[39m.\u001b[39msum()\u001b[39m/\u001b[39m\u001b[39m50000\u001b[39m \u001b[39mfor\u001b[39;00m u \u001b[39min\u001b[39;00m x]\n",
      "\u001b[1;32md:\\Proba_stat_4_LM-master\\Proba_stat_4_LM-master\\TP2\\TP2_2LAM-Enonce.ipynb Cell 21\u001b[0m in \u001b[0;36msim\u001b[1;34m(CIBLE)\u001b[0m\n\u001b[0;32m      <a href='vscode-notebook-cell:/d%3A/Proba_stat_4_LM-master/Proba_stat_4_LM-master/TP2/TP2_2LAM-Enonce.ipynb#X26sZmlsZQ%3D%3D?line=8'>9</a>\u001b[0m \u001b[39mwhile\u001b[39;00m temp \u001b[39m!=\u001b[39m \u001b[39m6\u001b[39m:\n\u001b[0;32m     <a href='vscode-notebook-cell:/d%3A/Proba_stat_4_LM-master/Proba_stat_4_LM-master/TP2/TP2_2LAM-Enonce.ipynb#X26sZmlsZQ%3D%3D?line=9'>10</a>\u001b[0m     NCOUP \u001b[39m+\u001b[39m\u001b[39m=\u001b[39m \u001b[39m1\u001b[39m\n\u001b[1;32m---> <a href='vscode-notebook-cell:/d%3A/Proba_stat_4_LM-master/Proba_stat_4_LM-master/TP2/TP2_2LAM-Enonce.ipynb#X26sZmlsZQ%3D%3D?line=10'>11</a>\u001b[0m     temp \u001b[39m=\u001b[39m Roll()\n\u001b[0;32m     <a href='vscode-notebook-cell:/d%3A/Proba_stat_4_LM-master/Proba_stat_4_LM-master/TP2/TP2_2LAM-Enonce.ipynb#X26sZmlsZQ%3D%3D?line=11'>12</a>\u001b[0m     \u001b[39mif\u001b[39;00m temp \u001b[39m==\u001b[39m \u001b[39m6\u001b[39m:\n\u001b[0;32m     <a href='vscode-notebook-cell:/d%3A/Proba_stat_4_LM-master/Proba_stat_4_LM-master/TP2/TP2_2LAM-Enonce.ipynb#X26sZmlsZQ%3D%3D?line=12'>13</a>\u001b[0m         POS \u001b[39m=\u001b[39m \u001b[39m1\u001b[39m\n",
      "\u001b[1;32md:\\Proba_stat_4_LM-master\\Proba_stat_4_LM-master\\TP2\\TP2_2LAM-Enonce.ipynb Cell 21\u001b[0m in \u001b[0;36mRoll\u001b[1;34m()\u001b[0m\n\u001b[0;32m      <a href='vscode-notebook-cell:/d%3A/Proba_stat_4_LM-master/Proba_stat_4_LM-master/TP2/TP2_2LAM-Enonce.ipynb#X26sZmlsZQ%3D%3D?line=0'>1</a>\u001b[0m \u001b[39mdef\u001b[39;00m \u001b[39mRoll\u001b[39m():\n\u001b[1;32m----> <a href='vscode-notebook-cell:/d%3A/Proba_stat_4_LM-master/Proba_stat_4_LM-master/TP2/TP2_2LAM-Enonce.ipynb#X26sZmlsZQ%3D%3D?line=1'>2</a>\u001b[0m     \u001b[39mreturn\u001b[39;00m \u001b[39mint\u001b[39m(np\u001b[39m.\u001b[39;49mrandom\u001b[39m.\u001b[39;49mchoice([\u001b[39m1\u001b[39;49m, \u001b[39m2\u001b[39;49m, \u001b[39m3\u001b[39;49m, \u001b[39m4\u001b[39;49m, \u001b[39m5\u001b[39;49m, \u001b[39m6\u001b[39;49m], replace\u001b[39m=\u001b[39;49m\u001b[39mTrue\u001b[39;49;00m))\n",
      "\u001b[1;31mKeyboardInterrupt\u001b[0m: "
     ]
    }
   ],
   "source": [
    "y=[np.fromiter((sim(u) for i in range(5*10**4)),dtype=int).sum()/50000 for u in x]"
   ]
  },
  {
   "cell_type": "code",
   "execution_count": null,
   "metadata": {},
   "outputs": [],
   "source": [
    "import matplotlib.pyplot as plt"
   ]
  },
  {
   "cell_type": "code",
   "execution_count": null,
   "metadata": {},
   "outputs": [
    {
     "data": {
      "text/plain": [
       "[<matplotlib.lines.Line2D at 0x218f16ab520>]"
      ]
     },
     "execution_count": 19,
     "metadata": {},
     "output_type": "execute_result"
    },
    {
     "data": {
      "image/png": "[encoded data removed]",
      "text/plain": [
       "<Figure size 640x480 with 1 Axes>"
      ]
     },
     "metadata": {},
     "output_type": "display_data"
    }
   ],
   "source": [
    "plt.plot(x,y)"
   ]
  },
  {
   "cell_type": "code",
   "execution_count": null,
   "metadata": {},
   "outputs": [],
   "source": [
    "from scipy import stats\n",
    "import numpy as np\n",
    "slope, intercept, r_value, p_value, std_err = stats.linregress(x,y)"
   ]
  },
  {
   "cell_type": "code",
   "execution_count": null,
   "metadata": {},
   "outputs": [
    {
     "data": {
      "text/plain": [
       "0.3407989090909091"
      ]
     },
     "execution_count": 24,
     "metadata": {},
     "output_type": "execute_result"
    }
   ],
   "source": [
    "slope"
   ]
  },
  {
   "cell_type": "code",
   "execution_count": null,
   "metadata": {},
   "outputs": [
    {
     "data": {
      "text/plain": [
       "8.779865818181818"
      ]
     },
     "execution_count": 25,
     "metadata": {},
     "output_type": "execute_result"
    }
   ],
   "source": [
    "intercept\n"
   ]
  },
  {
   "cell_type": "code",
   "execution_count": null,
   "metadata": {},
   "outputs": [],
   "source": []
  }
 ],
 "metadata": {
  "kernelspec": {
   "display_name": "Python 3",
   "language": "python",
   "name": "python3"
  },
  "language_info": {
   "codemirror_mode": {
    "name": "ipython",
    "version": 3
   },
   "file_extension": ".py",
   "mimetype": "text/x-python",
   "name": "python",
   "nbconvert_exporter": "python",
   "pygments_lexer": "ipython3",
   "version": "3.10.1"
  },
  "vscode": {
   "interpreter": {
    "hash": "d1e02c5b642dd86f30a9a6e4dae29b776ca73ac071da12153c8ddacfdf3e311d"
   }
  }
 },
 "nbformat": 4,
 "nbformat_minor": 4
}
