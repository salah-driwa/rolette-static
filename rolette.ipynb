{
 "cells": [
  {
   "cell_type": "code",
   "execution_count": 4,
   "metadata": {},
   "outputs": [],
   "source": [
    "import random\n",
    "\n",
    "red = (1,3,5,7,9,12,14,16,18,21,23,25,27,30,32,34,36)\n",
    "black = (2,4,6,8,10,11,13,15,17,19,20,22,24,26,28,29,31,33,35)\n",
    "green = 0\n",
    "even = (2,4,6,8,10,12,14,16,18,20,22,24,26,28,30,32,34,36)\n",
    "odd = (1,3,5,7,9,11,13,15,17,19,21,23,25,27,29,31,33,35)\n",
    "\n",
    "\n",
    "def roll():\n",
    "    return  random.randint(0,36)\n",
    "    \n",
    " \n",
    "\n",
    "def win_loss(roll,bet):\n",
    "    if roll in red and bet == 1:\n",
    "     \n",
    "        return 1\n",
    "    elif roll in black and bet == 2:\n",
    "        \n",
    "        return 1\n",
    "    elif roll == green and bet == 3:\n",
    "       \n",
    "        return 1\n",
    "    elif roll in even and bet == 4: \n",
    "       \n",
    "        return 1\n",
    "    elif roll in odd and bet == 5: \n",
    "        \n",
    "        return 1\n",
    "    else:\n",
    "        return -1\n",
    "        \n",
    " # print('Red = 1')\n",
    "  # print('Black = 2')\n",
    "  # print('Green = 3')\n",
    "  # print('Odd = 4')\n",
    "  # print('Even = 5')\n",
    "def play(bet):\n",
    "    return win_loss(roll(),bet)\n",
    "\n",
    "\n",
    "\n"
   ]
  },
  {
   "cell_type": "code",
   "execution_count": 5,
   "metadata": {},
   "outputs": [
    {
     "name": "stdout",
     "output_type": "stream",
     "text": [
      "winning with red  46.07 %\n",
      "winning with black  51.21 %\n",
      "winning with green  2.66 %\n",
      "winning with even  48.72 %\n",
      "winning with odd  48.66 %\n"
     ]
    }
   ],
   "source": [
    "play(1)\n",
    "##test with betting on red option 1 \n",
    "st1 =[]\n",
    "for i  in range(100000) :\n",
    "    st1.append(play(1))\n",
    "print(\"winning with red  \",end=\"\")\n",
    "print('{0:.2f}'.format((st1.count(1)/100000)*100),end=\"\")\n",
    "print(\" %\")\n",
    "##test with betting on black option 2\n",
    "st2 =[]\n",
    "for i  in range(100000) :\n",
    "    st2.append(play(2))\n",
    "\n",
    "print(\"winning with black  \",end=\"\")\n",
    "print('{0:.2f}'.format((st2.count(1)/100000)*100),end=\"\")\n",
    "print(\" %\")\n",
    "\n",
    "\n",
    "##test with betting on green option 3 \n",
    "st3 =[]\n",
    "for i  in range(100000) :\n",
    "    st3.append(play(3))\n",
    "\n",
    "print(\"winning with green  \",end=\"\")\n",
    "print('{0:.2f}'.format((st3.count(1)/100000)*100),end=\"\")\n",
    "print(\" %\")\n",
    "##test with betting on even option 4 \n",
    "\n",
    "st4 =[]\n",
    "for i  in range(100000) :\n",
    "    st4.append(play(4))\n",
    "\n",
    "print(\"winning with even  \",end=\"\")\n",
    "print('{0:.2f}'.format((st4.count(1)/100000)*100),end=\"\")\n",
    "print(\" %\")\n",
    "\n",
    "##test with betting on odd option 5 \n",
    "\n",
    "st5 =[]\n",
    "for i  in range(100000) :\n",
    "    st5.append(play(5))\n",
    "\n",
    "print(\"winning with odd  \",end=\"\")\n",
    "print('{0:.2f}'.format((st5.count(1)/100000)*100),end=\"\")\n",
    "print(\" %\")\n"
   ]
  },
  {
   "attachments": {},
   "cell_type": "markdown",
   "metadata": {},
   "source": [
    "<img src=\"r.jpg\">"
   ]
  }
 ],
 "metadata": {
  "kernelspec": {
   "display_name": "Python 3",
   "language": "python",
   "name": "python3"
  },
  "language_info": {
   "codemirror_mode": {
    "name": "ipython",
    "version": 3
   },
   "file_extension": ".py",
   "mimetype": "text/x-python",
   "name": "python",
   "nbconvert_exporter": "python",
   "pygments_lexer": "ipython3",
   "version": "3.10.1"
  },
  "orig_nbformat": 4,
  "vscode": {
   "interpreter": {
    "hash": "d1e02c5b642dd86f30a9a6e4dae29b776ca73ac071da12153c8ddacfdf3e311d"
   }
  }
 },
 "nbformat": 4,
 "nbformat_minor": 2
}
